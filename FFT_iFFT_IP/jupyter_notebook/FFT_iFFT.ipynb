{
 "cells": [
  {
   "cell_type": "code",
   "execution_count": 1,
   "metadata": {},
   "outputs": [
    {
     "data": {
      "application/javascript": [
       "\n",
       "try {\n",
       "require(['notebook/js/codecell'], function(codecell) {\n",
       "  codecell.CodeCell.options_default.highlight_modes[\n",
       "      'magic_text/x-csrc'] = {'reg':[/^%%microblaze/]};\n",
       "  Jupyter.notebook.events.one('kernel_ready.Kernel', function(){\n",
       "      Jupyter.notebook.get_cells().map(function(cell){\n",
       "          if (cell.cell_type == 'code'){ cell.auto_highlight(); } }) ;\n",
       "  });\n",
       "});\n",
       "} catch (e) {};\n"
      ]
     },
     "metadata": {},
     "output_type": "display_data"
    },
    {
     "data": {
      "application/javascript": [
       "\n",
       "try {\n",
       "require(['notebook/js/codecell'], function(codecell) {\n",
       "  codecell.CodeCell.options_default.highlight_modes[\n",
       "      'magic_text/x-csrc'] = {'reg':[/^%%pybind11/]};\n",
       "  Jupyter.notebook.events.one('kernel_ready.Kernel', function(){\n",
       "      Jupyter.notebook.get_cells().map(function(cell){\n",
       "          if (cell.cell_type == 'code'){ cell.auto_highlight(); } }) ;\n",
       "  });\n",
       "});\n",
       "} catch (e) {};\n"
      ]
     },
     "metadata": {},
     "output_type": "display_data"
    },
    {
     "name": "stdout",
     "output_type": "stream",
     "text": [
      "Entry: /usr/local/share/pynq-venv/lib/python3.8/site-packages/ipykernel_launcher.py\n",
      "System argument(s): 3\n",
      "Start of \"/usr/local/share/pynq-venv/lib/python3.8/site-packages/ipykernel_launcher.py\"\n",
      "FFT execution time: 0.002037525177001953 s\n",
      "iFFT execution time: 0.0034952163696289062 s\n",
      "Test Passed!!\n",
      "============================\n",
      "Exit process\n"
     ]
    }
   ],
   "source": [
    "# coding: utf-8\n",
    "\n",
    "# In[ ]:\n",
    "\n",
    "from __future__ import print_function\n",
    "\n",
    "import sys, os\n",
    "import numpy as np\n",
    "from time import time\n",
    "import matplotlib.pyplot as plt \n",
    "\n",
    "sys.path.append('/home/xilinx')\n",
    "os.environ['XILINX_XRT'] = '/usr'\n",
    "from pynq import Overlay\n",
    "from pynq import allocate\n",
    "\n",
    "if __name__ == \"__main__\":\n",
    "    print(\"Entry:\", sys.argv[0])\n",
    "    print(\"System argument(s):\", len(sys.argv))\n",
    "    print(\"Start of \\\"\" + sys.argv[0] + \"\\\"\")\n",
    "    \n",
    "    # Overlay\n",
    "    ol = Overlay(\"FFT_iFFT.bit\")\n",
    "    ipFFT  = ol.FFT_0  \n",
    "    ipiFFT = ol.iFFT_0\n",
    "\n",
    "    # Memory allocate\n",
    "    inBufferFFT  = allocate(shape=(1024,), dtype=np.float64)\n",
    "    inBufferiFFT = allocate(shape=(1024,), dtype=np.float64)\n",
    "        \n",
    "    # ============= Set Kernel Argument ==============\n",
    "    # control\n",
    "    # 0x00 : Control signals\n",
    "    #        bit 0  - ap_start (Read/Write/COH)\n",
    "    #        bit 1  - ap_done (Read/COR)\n",
    "    #        bit 2  - ap_idle (Read)\n",
    "    # 0x10 : Data signal of f\n",
    "    #        bit 31~0 - f[31:0] (Read/Write)\n",
    "    # 0x14 : Data signal of f\n",
    "    #        bit 31~0 - f[63:32] (Read/Write)\n",
    "    # 0x1c : Data signal of logn\n",
    "    #        bit 31~0 - logn[31:0] (Read/Write)\n",
    "    logn = 10\n",
    "    ipFFT.write(0x1C, logn) # Coefficient\n",
    "    ipiFFT.write(0x1C, logn)\n",
    "    ipFFT.write(0x10, inBufferFFT.device_address) # 0x10 bit 31:0\n",
    "    ipiFFT.write(0x10, inBufferiFFT.device_address) # 0x10 bit 31:0\n",
    "\n",
    "    # ================ Data Transfer =================\n",
    "    with open(\"FFT_in.txt\", \"r+\") as FFT_in:\n",
    "        for i in range(1024):\n",
    "            line = FFT_in.readline()\n",
    "            inBufferFFT[i] = float(line)\n",
    "\n",
    "    timeKernelStart = time()\n",
    "    ipFFT.write(0x00, 0x01) # 0x00: bit 0: 0->1: start\n",
    "    while (ipFFT.read(0x00) & 0x4) == 0x0:\n",
    "        continue\n",
    "    timeKernelEnd = time()\n",
    "    print(\"FFT execution time: \" + str(timeKernelEnd - timeKernelStart) + \" s\")\n",
    "    \n",
    "    for i in range(1024):\n",
    "        inBufferiFFT[i] = inBufferFFT[i]\n",
    "    timeKernelStart = time()\n",
    "    ipiFFT.write(0x00, 0x01)\n",
    "    while (ipiFFT.read(0x00) & 0x4) == 0x0:\n",
    "        continue\n",
    "    timeKernelEnd = time()\n",
    "    print(\"iFFT execution time: \" + str(timeKernelEnd - timeKernelStart) + \" s\")\n",
    "    # ================== Compare =====================\n",
    "    error_cnt = 0\n",
    "    \n",
    "    with open(\"FFT_in.txt\" , \"r\") as result:\n",
    "        for i in range(1024):\n",
    "            line = result.readline()\n",
    "            golden = float(line)\n",
    "\n",
    "            if round(inBufferiFFT[i], 5) != golden:\n",
    "                print(f\"Failed, expect value: {golden:.17f}\")\n",
    "                error_cnt += 1\n",
    "            #else:\n",
    "            #   print(f\"Calculate value: {inBufferiFFT[i]:.17f}\")\n",
    "\n",
    "    if error_cnt == 0:\n",
    "        print(\"Test Passed!!\")\n",
    "    else:\n",
    "        print(\"Test Failed!!\")\n",
    "\n",
    "    print(\"============================\")\n",
    "    print(\"Exit process\")\n",
    "\n"
   ]
  }
 ],
 "metadata": {
  "kernelspec": {
   "display_name": "Python 3",
   "language": "python",
   "name": "python3"
  },
  "language_info": {
   "codemirror_mode": {
    "name": "ipython",
    "version": 3
   },
   "file_extension": ".py",
   "mimetype": "text/x-python",
   "name": "python",
   "nbconvert_exporter": "python",
   "pygments_lexer": "ipython3",
   "version": "3.8.10"
  }
 },
 "nbformat": 4,
 "nbformat_minor": 2
}
