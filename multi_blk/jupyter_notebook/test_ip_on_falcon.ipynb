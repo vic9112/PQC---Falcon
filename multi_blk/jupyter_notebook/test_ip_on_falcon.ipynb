{
 "cells": [
  {
   "cell_type": "code",
   "execution_count": null,
   "metadata": {},
   "outputs": [],
   "source": [
    "\n",
    "# coding: utf-8\n",
    "\n",
    "# In[ ]:\n",
    "\n",
    "import falcon\n",
    "import sys, os\n",
    "\n",
    "from time import time\n",
    "\n",
    "sys.path.append('/home/xilinx')\n",
    "os.environ['XILINX_XRT'] = '/usr'\n",
    "\n",
    "if __name__ == \"__main__\":\n",
    "    print(\"Entry:\", sys.argv[0])\n",
    "    print(\"System argument(s):\", len(sys.argv))\n",
    "    print(\"Start of \\\"\" + sys.argv[0] + \"\\\"\")\n",
    "\n",
    "    # Generate Key\n",
    "    sk = falcon.SecretKey(1024)\n",
    "    pk = falcon.PublicKey(sk)\n",
    "    # print(sk)\n",
    "    # print(pk)\n",
    "\n",
    "    # Signature\n",
    "    sig = sk.sign(b\"Hello\") \n",
    "    # print(sig)\n",
    "    \n",
    "    # Verify\n",
    "    if (pk.verify(b\"Hello\", sig)):\n",
    "        print(\"Verification Passed!!!\")\n",
    "    else:\n",
    "        print(\"Verification Failed!!!\")\n",
    "    \n",
    "    print(\"=====================================\")\n",
    "    print(\"Exit process\")\n",
    "    \n",
    "    \n",
    "\n"
   ]
  }
 ],
 "metadata": {
  "language_info": {
   "name": "python"
  }
 },
 "nbformat": 4,
 "nbformat_minor": 2
}
